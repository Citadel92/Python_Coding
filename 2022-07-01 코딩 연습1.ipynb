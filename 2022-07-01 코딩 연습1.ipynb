{
 "cells": [
  {
   "cell_type": "code",
   "execution_count": 1,
   "id": "cda98066",
   "metadata": {},
   "outputs": [
    {
     "name": "stdout",
     "output_type": "stream",
     "text": [
      "010-1234-5679\n"
     ]
    }
   ],
   "source": [
    "sdict = {'홍길동' : '010-1234-5679',\n",
    "         '강감찬' : '010-1234-5679',\n",
    "         '이순신' : '010-1234-5679'}\n",
    "\n",
    "print(sdict['강감찬'])"
   ]
  },
  {
   "cell_type": "code",
   "execution_count": 2,
   "id": "45f3a388",
   "metadata": {},
   "outputs": [
    {
     "name": "stdout",
     "output_type": "stream",
     "text": [
      "I eat 3 apples.\n",
      "I eat five apples.\n",
      "a = 10 b = three\n"
     ]
    }
   ],
   "source": [
    "#C-Style String Formatting\n",
    "\n",
    "str = \"I eat %d apples.\" % 3\n",
    "print(str)\n",
    "\n",
    "str = \"I eat %s apples.\" % \"five\"\n",
    "print(str)\n",
    "\n",
    "number = 10\n",
    "day = \"three\"\n",
    "str = \"a = %d b = %s\" % (number, day)\n",
    "print(str)"
   ]
  },
  {
   "cell_type": "code",
   "execution_count": 3,
   "id": "b1f6a2b5",
   "metadata": {},
   "outputs": [
    {
     "name": "stdout",
     "output_type": "stream",
     "text": [
      "name: kim, age: 45\n",
      "name: kim, age: 45\n",
      "name: kim, age: 45\n",
      "name: kim, age: 45, name2:kim\n"
     ]
    }
   ],
   "source": [
    "#format() 함수\n",
    "\n",
    "str1 = \"name: {}, age: {}\".format(\"kim\", 45)\n",
    "str2 = \"name: {1}, age: {0}\".format(45, \"kim\")\n",
    "str3 = \"name: {name}, age: {age}\".format(name = \"kim\", age = 45)\n",
    "str4 = \"name: {0}, age: {1}, name2:{0}\".format(\"kim\", 45)\n",
    "\n",
    "print(str1)\n",
    "print(str2)\n",
    "print(str3)\n",
    "print(str4)"
   ]
  },
  {
   "cell_type": "code",
   "execution_count": 4,
   "id": "61e620bf",
   "metadata": {},
   "outputs": [
    {
     "name": "stdout",
     "output_type": "stream",
     "text": [
      "       IBM        100      91.10\n",
      "Cost = $9110.00\n"
     ]
    }
   ],
   "source": [
    "#f-string\n",
    "\n",
    "name = \"IBM\"\n",
    "shares = 100\n",
    "price = 91.1\n",
    "\n",
    "str = f'{name:>10s} {shares:10d} {price:10.2f}'\n",
    "print(str)\n",
    "\n",
    "str = f'Cost = ${shares*price:.2f}'\n",
    "print(str)\n"
   ]
  },
  {
   "cell_type": "markdown",
   "id": "f4cda6db",
   "metadata": {},
   "source": [
    "# 문제. 몫과 나머지\n",
    "\n",
    "두 정수를 입력 받아 몫과 나머지를 계산하여 출력하는 프로그램을 작성하시오.\n"
   ]
  },
  {
   "cell_type": "code",
   "execution_count": 5,
   "id": "d6690772",
   "metadata": {},
   "outputs": [
    {
     "name": "stdout",
     "output_type": "stream",
     "text": [
      "분자를 입력하세요 : 3\n",
      "분모를 입력하세요 : 4\n",
      "나눗셈의 몫 =  0\n",
      "나눗셈의 나머지 =  3\n"
     ]
    }
   ],
   "source": [
    "p = int(input(\"분자를 입력하세요 : \"))\n",
    "q = int(input(\"분모를 입력하세요 : \"))\n",
    "\n",
    "print(\"나눗셈의 몫 = \", p // q)\n",
    "print(\"나눗셈의 나머지 = \", p % q)\n",
    "\n"
   ]
  },
  {
   "cell_type": "markdown",
   "id": "a65e34b5",
   "metadata": {},
   "source": [
    "# 문제. 초단위의 시간 변환\n",
    "\n",
    "초단위의 시간을 입력 받아서 몇 시간, 몇 분, 몇 초인지를 계산하여 출력하는 프로그램을 작성하시오.\n",
    "\n"
   ]
  },
  {
   "cell_type": "code",
   "execution_count": 9,
   "id": "a2740651",
   "metadata": {},
   "outputs": [
    {
     "name": "stdout",
     "output_type": "stream",
     "text": [
      "초단위의 시간을 입력하세요 : 12345\n",
      "hour = 3 minute = 25 second = 45\n"
     ]
    }
   ],
   "source": [
    "sec = int(input(\"초단위의 시간을 입력하세요 : \"))\n",
    "\n",
    "hour = sec // 3600\n",
    "sec = sec % 3600\n",
    "min = sec // 60\n",
    "sec = sec % 60\n",
    "\n",
    "print(\"hour =\", hour, \"minute =\", min, \"second =\", sec )"
   ]
  },
  {
   "attachments": {
    "1.PNG": {
     "image/png": "[encoded data removed]"
    }
   },
   "cell_type": "markdown",
   "id": "94d874e7",
   "metadata": {},
   "source": [
    "# 문제. 온도 변환\n",
    "\n",
    "다음 공식을 이용하여 화씨온도를 섭씨온도로 변환한 후 화면에 출력하는 프로그램 작성\n",
    "\n",
    "![1.PNG](attachment:1.PNG)\n",
    "\n",
    "\n"
   ]
  },
  {
   "cell_type": "code",
   "execution_count": 11,
   "id": "77f20a23",
   "metadata": {},
   "outputs": [
    {
     "name": "stdout",
     "output_type": "stream",
     "text": [
      "화씨온도를 입력하세요 :100\n",
      "화씨 100도는 썹씨 37.77777777777778\n"
     ]
    }
   ],
   "source": [
    "ftemp = int(input(\"화씨온도를 입력하세요 :\"))\n",
    "\n",
    "ctemp = (5.0/9.0) * (c - 32.0)\n",
    "print(f'화씨 {ftemp}도는 썹씨 {ctemp}')"
   ]
  },
  {
   "cell_type": "code",
   "execution_count": null,
   "id": "371a18da",
   "metadata": {},
   "outputs": [],
   "source": []
  }
 ],
 "metadata": {
  "kernelspec": {
   "display_name": "Python 3 (ipykernel)",
   "language": "python",
   "name": "python3"
  },
  "language_info": {
   "codemirror_mode": {
    "name": "ipython",
    "version": 3
   },
   "file_extension": ".py",
   "mimetype": "text/x-python",
   "name": "python",
   "nbconvert_exporter": "python",
   "pygments_lexer": "ipython3",
   "version": "3.9.13"
  }
 },
 "nbformat": 4,
 "nbformat_minor": 5
}
